{
  "cells": [
    {
      "cell_type": "code",
      "execution_count": 1,
      "metadata": {
        "colab": {
          "base_uri": "https://localhost:8080/"
        },
        "id": "Y34Fn8bywnp3",
        "outputId": "46972be5-2378-4f4a-c6fb-e4bd0849d43b"
      },
      "outputs": [
        {
          "name": "stdout",
          "output_type": "stream",
          "text": [
            "Opened database successfully\n"
          ]
        }
      ],
      "source": [
        "#!/usr/bin/python\n",
        "import sqlite3\n",
        "\n",
        "conn = sqlite3.connect('test.db')\n",
        "print(\"Opened database successfully\")\n"
      ]
    },
    {
      "cell_type": "code",
      "execution_count": 2,
      "metadata": {
        "colab": {
          "base_uri": "https://localhost:8080/"
        },
        "id": "p5So61u37YAb",
        "outputId": "6c4fc2eb-9829-490f-b9a0-cc98d9cbfe43"
      },
      "outputs": [
        {
          "name": "stdout",
          "output_type": "stream",
          "text": [
            "Opened database successfully\n",
            "Table created successfully\n"
          ]
        }
      ],
      "source": [
        "#!/usr/bin/python\n",
        "import sqlite3\n",
        "\n",
        "conn = sqlite3.connect('test.db')\n",
        "print(\"Opened database successfully\")\n",
        "\n",
        "conn.execute('''CREATE TABLE COMPANY\n",
        "             (ID INT PRIMARY KEY NOT NULL,\n",
        "             NAME TEXT NOT NULL,\n",
        "             AGE INT NOT NULL,\n",
        "             ADDRESS CHAR(50),\n",
        "             SALARY REAL);''')\n",
        "print(\"Table created successfully\")\n",
        "\n",
        "conn.close()\n",
        "\n"
      ]
    },
    {
      "cell_type": "code",
      "execution_count": 3,
      "metadata": {
        "colab": {
          "base_uri": "https://localhost:8080/"
        },
        "id": "fVZ01cYeBV2u",
        "outputId": "498e96cf-8417-4376-c8f6-52d780fa5d89"
      },
      "outputs": [
        {
          "name": "stdout",
          "output_type": "stream",
          "text": [
            "Opened database successfully\n",
            "Total number of rows updated: 0\n",
            "Operation done successfully\n"
          ]
        }
      ],
      "source": [
        "#!/usr/bin/python\n",
        "import sqlite3\n",
        "\n",
        "conn = sqlite3.connect('test.db')\n",
        "print(\"Opened database successfully\")\n",
        "\n",
        "conn.execute(\"UPDATE COMPANY set SALARY = 25000.00 where ID=1\")\n",
        "conn.commit()\n",
        "print(\"Total number of rows updated:\", conn.total_changes)\n",
        "\n",
        "cursor = conn.execute(\"SELECT id, name, address, salary from COMPANY\")\n",
        "for row in cursor:\n",
        "    print(\"ID =\", row[0])\n",
        "    print(\"NAME =\", row[1])\n",
        "    print(\"ADDRESS =\", row[2])\n",
        "    print(\"SALARY =\", row[3], \"\\n\")\n",
        "\n",
        "print(\"Operation done successfully\")\n",
        "conn.close()\n",
        "\n"
      ]
    },
    {
      "cell_type": "code",
      "execution_count": 4,
      "metadata": {},
      "outputs": [
        {
          "name": "stdout",
          "output_type": "stream",
          "text": [
            "Opened database successfully\n",
            "Total number of rows deleted: 0\n",
            "Operation done successfully\n"
          ]
        }
      ],
      "source": [
        "#!/usr/bin/python\n",
        "import sqlite3\n",
        "\n",
        "conn = sqlite3.connect('test.db')\n",
        "print(\"Opened database successfully\")\n",
        "\n",
        "conn.execute(\"DELETE from COMPANY where ID=2;\")\n",
        "conn.commit()\n",
        "print(\"Total number of rows deleted:\", conn.total_changes)\n",
        "\n",
        "cursor = conn.execute(\"SELECT id, name, address, salary from COMPANY\")\n",
        "for row in cursor:\n",
        "    print(\"ID =\", row[0])\n",
        "    print(\"NAME =\", row[1])\n",
        "    print(\"ADDRESS =\", row[2])\n",
        "    print(\"SALARY =\", row[3], \"\\n\")\n",
        "\n",
        "print(\"Operation done successfully\")\n",
        "conn.close()\n"
      ]
    }
  ],
  "metadata": {
    "colab": {
      "provenance": []
    },
    "kernelspec": {
      "display_name": "Python 3",
      "name": "python3"
    },
    "language_info": {
      "codemirror_mode": {
        "name": "ipython",
        "version": 3
      },
      "file_extension": ".py",
      "mimetype": "text/x-python",
      "name": "python",
      "nbconvert_exporter": "python",
      "pygments_lexer": "ipython3",
      "version": "3.9.13"
    }
  },
  "nbformat": 4,
  "nbformat_minor": 0
}
